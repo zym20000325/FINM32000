{
 "cells": [
  {
   "attachments": {},
   "cell_type": "markdown",
   "metadata": {},
   "source": [
    "## **FINM 32000 - HW1**\n",
    "\n",
    "#### Yumeng Zhang (12372205)"
   ]
  },
  {
   "attachments": {},
   "cell_type": "markdown",
   "metadata": {},
   "source": [
    "I discussed Problem 1 with Yitong Li, and Problem 2 with Shuangming Shi."
   ]
  },
  {
   "cell_type": "code",
   "execution_count": 3,
   "metadata": {},
   "outputs": [],
   "source": [
    "import numpy as np\n",
    "from scipy.stats import norm\n",
    "from scipy.optimize import bisect, brentq"
   ]
  },
  {
   "cell_type": "markdown",
   "metadata": {},
   "source": [
    "# Problem 1"
   ]
  },
  {
   "attachments": {},
   "cell_type": "markdown",
   "metadata": {},
   "source": [
    "##### **(a)**"
   ]
  },
  {
   "cell_type": "code",
   "execution_count": 4,
   "metadata": {},
   "outputs": [],
   "source": [
    "class UpAndOutPut:\n",
    "    \n",
    "    def __init__(self, K, T, barrier, observationinterval):\n",
    "        \n",
    "        self.K = K\n",
    "        self.T = T\n",
    "        self.barrier = barrier\n",
    "        self.observationinterval = observationinterval"
   ]
  },
  {
   "cell_type": "code",
   "execution_count": 19,
   "metadata": {},
   "outputs": [],
   "source": [
    "# hw1contract = UpAndOutPut(K=95, T=0.25, barrier=107, observationinterval=0.02)\n",
    "hw1contract = UpAndOutPut (K=95, T = 0.25, barrier = 114, observationinterval = 0.02)"
   ]
  },
  {
   "cell_type": "code",
   "execution_count": 20,
   "metadata": {},
   "outputs": [],
   "source": [
    "class GBMdynamics: \n",
    "    \n",
    "    def __init__(self, S, r, rGrow, sigma=None):\n",
    "\n",
    "        self.S = S\n",
    "        self.r = r\n",
    "        self.rGrow = rGrow\n",
    "        self.sigma = sigma\n",
    "        \n",
    "    def update_sigma(self, sigma):\n",
    "        \n",
    "        self.sigma = sigma\n",
    "        return self"
   ]
  },
  {
   "cell_type": "code",
   "execution_count": 21,
   "metadata": {},
   "outputs": [],
   "source": [
    "hw1dynamics = GBMdynamics(S = 100, sigma = 0.4, rGrow = 0, r = 0)"
   ]
  },
  {
   "cell_type": "code",
   "execution_count": 22,
   "metadata": {},
   "outputs": [],
   "source": [
    "class Tree:\n",
    "    \n",
    "    def __init__(self, N):\n",
    "        \n",
    "        self.N = N\n",
    "                \n",
    "    def price_upandout(self, dynamics, contract): \n",
    "        \n",
    "        deltat = contract.T / self.N\n",
    "        J = np.ceil(np.log(contract.barrier/dynamics.S)/(dynamics.sigma*np.sqrt(3*deltat))-0.5)\n",
    "        deltax = np.log(contract.barrier/dynamics.S)/(J+0.5)\n",
    "        \n",
    "        Sgrid = dynamics.S*np.exp(np.linspace(self.N, -self.N, num=2*self.N+1, endpoint=True)*deltax)  \n",
    "        # Here I decided to make the SMALLER indexes in this array correspond to HIGHER S\n",
    "        \n",
    "        numTimestepsPerObs = contract.observationinterval/deltat\n",
    "        if abs(numTimestepsPerObs-round(numTimestepsPerObs)) > 1e-8:\n",
    "            raise ValueError(\"This value of N fails to place the observation dates in the tree.\")\n",
    "            \n",
    "        nu = dynamics.r - (dynamics.sigma**2)/2                                                          # complete this \n",
    "        Pu = 0.5*(((dynamics.sigma**2)*deltat+(nu**2)*(deltat**2))/(deltax**2) + nu*deltat/deltax)       # complete this\n",
    "        Pd = 0.5*(((dynamics.sigma**2)*deltat+(nu**2)*(deltat**2))/(deltax**2) - nu*deltat/deltax)       # complete this\n",
    "        Pm = 1 - ((dynamics.sigma**2)*deltat+(nu**2)*(deltat**2))/(deltax**2)                            # complete this\n",
    "\n",
    "        optionprice = np.maximum(contract.K-Sgrid,0)   # an array of time-T option prices.\n",
    "\n",
    "        barrier_check = []\n",
    "\n",
    "        for i in range(len(Sgrid)):\n",
    "\n",
    "            if Sgrid[i] >= contract.barrier:\n",
    "                barrier_check.append(0)\n",
    "            else:\n",
    "                barrier_check.append(1)\n",
    "            \n",
    "\n",
    "        # Next, induct backwards to time 0, updating the optionprice array \n",
    "        # Hint: if x is an array, then what are x[2:] and x[1:-1] and x[:-2]\n",
    "    \n",
    "        for t in np.linspace(self.N-1, 0, num=self.N, endpoint=True)*deltat:\n",
    "\n",
    "            # insert lines of code here if needed\n",
    "\n",
    "            Cu = Pu * optionprice[:-2]\n",
    "            Cm = Pm * optionprice[1:-1]\n",
    "            Cd = Pd * optionprice[2:]\n",
    "\n",
    "            optionprice = np.exp((-1)*dynamics.r*deltat) * (Cu+Cm+Cd)  # complete this\n",
    "\n",
    "            barrier_check = barrier_check[1:-1]\n",
    "\n",
    "            if abs(t/contract.observationinterval-round(t/contract.observationinterval)) < 1e-8:  \n",
    "                optionprice = optionprice * barrier_check\n",
    "    \n",
    "\n",
    "        return optionprice[0]  \n",
    "         \n",
    "        # The [0] is assuming that we are shrinking the optionprice array in each iteration of the loop,\n",
    "        # until finally there is only 1 element in the array.\n",
    "        # If instead you are keeping unchanged the size of the optionprice array in each iteration, \n",
    "        # then you need to change the [0] to a different index.\n",
    "        "
   ]
  },
  {
   "cell_type": "code",
   "execution_count": 38,
   "metadata": {
    "scrolled": false
   },
   "outputs": [
    {
     "name": "stdout",
     "output_type": "stream",
     "text": [
      "Using a trinomial tree and with barrier conditions, the option price at time 0 is 5.3011.\n"
     ]
    }
   ],
   "source": [
    "hw1tree = Tree (N = 10000)\n",
    "\n",
    "price_tree = hw1tree.price_upandout(hw1dynamics, hw1contract)\n",
    "\n",
    "print(\"Using a trinomial tree and with barrier conditions, the option price at time 0 is \" + str(round(price_tree, 4)) + \".\")"
   ]
  },
  {
   "cell_type": "code",
   "execution_count": 39,
   "metadata": {},
   "outputs": [
    {
     "name": "stdout",
     "output_type": "stream",
     "text": [
      "Remove the barrier conditions, trinomial tree method shows that the option price at time 0 is 5.5195.\n"
     ]
    }
   ],
   "source": [
    "# to remove barrier conditions in trinomial tree method, set the barrier to a large value, such as 10000\n",
    "# so that S will always be under the barrier\n",
    "\n",
    "hw1contract_ = UpAndOutPut (K = 95, T = 0.25, barrier = 10000, observationinterval = 0.02)\n",
    "hw1tree_ = Tree (N = 10000)\n",
    "\n",
    "price_tree_ = hw1tree_.price_upandout(hw1dynamics, hw1contract_)\n",
    "\n",
    "print(\"Remove the barrier conditions, trinomial tree method shows that the option price at time 0 is \" + str(round(price_tree_, 4)) + \".\")"
   ]
  },
  {
   "cell_type": "code",
   "execution_count": 100,
   "metadata": {},
   "outputs": [
    {
     "name": "stdout",
     "output_type": "stream",
     "text": [
      "Using Black-Scholes to price Europeans, the option price at time 0 is 5.5195.\n"
     ]
    }
   ],
   "source": [
    "# Black-Scholes\n",
    "\n",
    "from scipy.stats import norm\n",
    "\n",
    "def BS_call(S, K, T, r, sigma):\n",
    "\n",
    "    d1 = (np.log(S / K) + (r + 0.5 * sigma**2) * T) / (sigma * np.sqrt(T))\n",
    "    d2 = d1 - sigma * np.sqrt(T)\n",
    "    price = S * norm.cdf(d1) - K * np.exp(-r * T) * norm.cdf(d2)\n",
    "\n",
    "    return price\n",
    "\n",
    "def BS_put(S, K, T, r, sigma):\n",
    "\n",
    "    d1 = (np.log(S / K) + (r + 0.5 * sigma**2) * T) / (sigma * np.sqrt(T))\n",
    "    d2 = d1 - sigma * np.sqrt(T)\n",
    "    price = K * np.exp(-r * T) * norm.cdf(-d2) - S * norm.cdf(-d1)\n",
    "\n",
    "    return price\n",
    "\n",
    "\n",
    "price_bs = BS_put(S = 100, K = 95, T = 0.25, r = 0, sigma = 0.4)\n",
    "\n",
    "print(\"Using Black-Scholes to price Europeans, the option price at time 0 is \" + str(round(price_bs, 4)) + \".\")"
   ]
  },
  {
   "attachments": {},
   "cell_type": "markdown",
   "metadata": {},
   "source": [
    "Trinomial tree method with barrier conditions removed gives the same time-0 option price as Black-Scholes, which proves that it has priced Europeans correctly."
   ]
  },
  {
   "attachments": {},
   "cell_type": "markdown",
   "metadata": {},
   "source": [
    "##### **(b)**"
   ]
  },
  {
   "cell_type": "code",
   "execution_count": 40,
   "metadata": {},
   "outputs": [
    {
     "name": "stdout",
     "output_type": "stream",
     "text": [
      "The time-0 price of the up-and-in put is 0.2185.\n"
     ]
    }
   ],
   "source": [
    "price_out = price_tree\n",
    "price_in = price_bs - price_out\n",
    "\n",
    "print(\"The time-0 price of the up-and-in put is \" + str(round(price_in, 4)) + \".\")"
   ]
  },
  {
   "attachments": {},
   "cell_type": "markdown",
   "metadata": {},
   "source": [
    "##### **(c1)**"
   ]
  },
  {
   "attachments": {},
   "cell_type": "markdown",
   "metadata": {},
   "source": [
    "The time-0 price of the continuously-monitored barrier option is smaller than the time-0 price of the discretely-monitored option, because it is more likely to knock out the put option, and therefore less likely to expire. "
   ]
  },
  {
   "attachments": {},
   "cell_type": "markdown",
   "metadata": {},
   "source": [
    "##### **(c2)**"
   ]
  },
  {
   "attachments": {},
   "cell_type": "markdown",
   "metadata": {},
   "source": [
    "The continuously monitored barrier option can be replicated by longing 1 plain vanilla put struck at 95, and shorting α plain vanilla calls struck at 136.8. Let the P = price of one plain vanilla put, C = price of one plain vanilla call.\n",
    "\n",
    "At the time when S is at the barrier, P - α * C = 0, α = P / C.\n",
    "\n",
    "According to BS formula, P = K * np.exp(-r * T) * N(-d2) - S * N(-d1), C = S * N(d1) - K * np.exp(-r * T) * N (d2).\n",
    "\n",
    "Plug in, and we can get P = 95 * N(-d2) - S * N(-d1) = 95 * N(d1) - S * N(d2), C = S * N(d1) - 136.8 * N(d2).\n",
    "\n",
    "When S is at the barrier, S = 114.\n",
    "\n",
    "95 * N(d1) - 114 * N(d2) = α * (114 * N(d1) - 136.8 * N(d2))\n",
    "\n",
    "(114 * α - 95) * N(d1) = (136.8 * α - 100) * N(d2)\n",
    "\n",
    "Therefore, 114 * α - 95 = 0, 136.8 * α - 100 = 0.\n",
    "\n",
    "α = 95/114 = 100/136.8 = 0.83333"
   ]
  },
  {
   "cell_type": "code",
   "execution_count": 55,
   "metadata": {},
   "outputs": [
    {
     "name": "stdout",
     "output_type": "stream",
     "text": [
      "The time-0 value of the continuously-monitored barrier option is 5.0315.\n"
     ]
    }
   ],
   "source": [
    "alpha = 95/114\n",
    "\n",
    "vanilla_put = BS_put(S = 100, K = 95, T = 0.25, r = 0, sigma = 0.4)\n",
    "vanilla_call = BS_call(S = 100, K = 136.8, T = 0.25, r = 0, sigma = 0.4)\n",
    "\n",
    "price_continuous = vanilla_put - alpha * vanilla_call\n",
    "\n",
    "print(\"The time-0 value of the continuously-monitored barrier option is \" + str(round(price_continuous,4)) + \".\")"
   ]
  },
  {
   "cell_type": "markdown",
   "metadata": {},
   "source": [
    "# Problem 2"
   ]
  },
  {
   "cell_type": "code",
   "execution_count": null,
   "metadata": {},
   "outputs": [],
   "source": [
    "# uses the same GBMdynamics class as in Problem 1"
   ]
  },
  {
   "cell_type": "code",
   "execution_count": 101,
   "metadata": {},
   "outputs": [],
   "source": [
    "class CallOption:\n",
    "    \n",
    "    def __init__(self, K, T, price=None):\n",
    "\n",
    "        self.K = K\n",
    "        self.T = T\n",
    "        self.price = price\n",
    "\n",
    "    def BSprice(self, dynamics):\n",
    "        # ignores self.price if given, because this function calculates price based on the dynamics \n",
    "        \n",
    "        F = dynamics.S*np.exp(dynamics.rGrow*self.T)\n",
    "        sd = dynamics.sigma*np.sqrt(self.T)\n",
    "        d1 = np.log(F/self.K)/sd+sd/2\n",
    "        d2 = d1-sd\n",
    "        return np.exp(-dynamics.r*self.T)*(F*norm.cdf(d1)-self.K*norm.cdf(d2))\n",
    "\n",
    "    def BSprice_f(self, S, K, T, r,rGrow, sigma):\n",
    "\n",
    "        # this function the same as BSprice, but is used to solving for sigma in self.IV\n",
    "\n",
    "        F = S*np.exp(rGrow*T)\n",
    "        sd = sigma*np.sqrt(T)\n",
    "        d1 = np.log(F/K)/sd+sd/2\n",
    "        d2 = d1-sd\n",
    "\n",
    "        return np.exp(-r*T)*(F*norm.cdf(d1)-K*norm.cdf(d2))\n",
    "\n",
    "    def IV(self, dynamics):\n",
    "        \n",
    "        # ignores dynamics.sigma, because this function solves for sigma.  \n",
    "        \n",
    "        if self.price is None: \n",
    "            raise ValueError('Contract price must be given')\n",
    "    \n",
    "        df = np.exp(-dynamics.r*self.T)  #discount factor\n",
    "        F = dynamics.S / df\n",
    "        lowerbound = np.max([0,(F-self.K)*df])\n",
    "        C = self.price\n",
    "        if C<lowerbound:\n",
    "            return np.nan\n",
    "        if C==lowerbound:\n",
    "            return 0\n",
    "        if C>=F*df:\n",
    "            return np.nan \n",
    "\n",
    "        dytry = dynamics\n",
    "        # We \"try\" values of sigma until we find sigma that generates price C\n",
    "\n",
    "        # First find lower and upper bounds\n",
    "        dytry.sigma = 0.2\n",
    "        while self.BSprice(dytry)>C:\n",
    "            dytry.sigma /= 2\n",
    "        while self.BSprice(dytry)<C:\n",
    "            dytry.sigma *= 2\n",
    "            \n",
    "        hi = dytry.sigma\n",
    "        lo = hi/2\n",
    "\n",
    "        # We have calculated \"lo\" and \"hi\" which bound the implied volatility from below and above. \n",
    "        # In other words, the implied volatility is somewhere in the interval [lo,hi].\n",
    "        # Then, to calculate the implied volatility within that interval, \n",
    "        # for purposes of this homework, you may either (A) write your own bisection algorithm, \n",
    "        # or (B) use scipy.optimize.bisect or (C) use scipy.optimize.brentq\n",
    "        # You will need to provide lo and hi to those solvers.\n",
    "        # There are other solvers that do not require you to bound the solution \n",
    "        # from below and above (for instance, scipy.optimize.fsolve is a useful solver).  \n",
    "        # However, if you are able to bound the solution (of a single-variable problem), \n",
    "        # then bisection or Brent will be more reliable.\n",
    "\n",
    "        # you fill this in, using bisect or brentq imported from scipy.optimize, or by writing your own bisection algorithm.\n",
    "        \n",
    "        impliedVolatility = bisect(lambda x: self.BSprice_f(dynamics.S, self.K, self.T, dynamics.r, dynamics.rGrow, x) - C, lo, hi)     \n",
    "        \n",
    "        return impliedVolatility\n"
   ]
  },
  {
   "cell_type": "code",
   "execution_count": 102,
   "metadata": {},
   "outputs": [
    {
     "data": {
      "text/plain": [
       "11.246291601828489"
      ]
     },
     "execution_count": 102,
     "metadata": {},
     "output_type": "execute_result"
    }
   ],
   "source": [
    "#Test the BSprice function\n",
    "dynamics2 = GBMdynamics(sigma=0.4, rGrow=0, S=100, r=0)\n",
    "contract2 = CallOption(K=100, T=0.5)\n",
    "contract2.BSprice(dynamics2)"
   ]
  },
  {
   "cell_type": "code",
   "execution_count": 103,
   "metadata": {},
   "outputs": [
    {
     "data": {
      "text/plain": [
       "0.427005424113304"
      ]
     },
     "execution_count": 103,
     "metadata": {},
     "output_type": "execute_result"
    }
   ],
   "source": [
    "#Test the IV function\n",
    "contract2.price = 12\n",
    "contract2.IV(dynamics2)"
   ]
  },
  {
   "attachments": {},
   "cell_type": "markdown",
   "metadata": {},
   "source": [
    "##### **(a)**"
   ]
  },
  {
   "cell_type": "code",
   "execution_count": 104,
   "metadata": {},
   "outputs": [
    {
     "name": "stdout",
     "output_type": "stream",
     "text": [
      "The time-0 Black-Scholes implied volatility of 0.5-expiry call is 0.4001.\n"
     ]
    }
   ],
   "source": [
    "# 0.5 year\n",
    "\n",
    "contract_a1 = CallOption (K = 100, T = 0.5, price = 11.25)\n",
    "dynamics_a1 = GBMdynamics(S = 100, r = 0, rGrow = 0)\n",
    "vol_a1 = contract_a1.IV(dynamics_a1)\n",
    "\n",
    "print(\"The time-0 Black-Scholes implied volatility of 0.5-expiry call is \" + str(round(vol_a1,4)) + \".\")"
   ]
  },
  {
   "cell_type": "code",
   "execution_count": 98,
   "metadata": {},
   "outputs": [
    {
     "name": "stdout",
     "output_type": "stream",
     "text": [
      "The time-0 Black-Scholes implied volatility of 1-expiry call is 0.3019.\n"
     ]
    }
   ],
   "source": [
    "# 1 year\n",
    "\n",
    "contract_a2 = CallOption (K = 100, T = 1, price = 12)\n",
    "dynamics_a2 = GBMdynamics(S = 100, r = 0, rGrow = 0)\n",
    "vol_a2 = contract_a2.IV(dynamics_a2)\n",
    "\n",
    "print(\"The time-0 Black-Scholes implied volatility of 1-expiry call is \" + str(round(vol_a2,4)) + \".\")"
   ]
  },
  {
   "attachments": {},
   "cell_type": "markdown",
   "metadata": {},
   "source": [
    "##### **(b)**"
   ]
  },
  {
   "cell_type": "code",
   "execution_count": 99,
   "metadata": {},
   "outputs": [
    {
     "name": "stdout",
     "output_type": "stream",
     "text": [
      "The time-0 price of the 0.75-expiry call is 12.0815.\n"
     ]
    }
   ],
   "source": [
    "vol_b = 0.5* (vol_a1 + vol_a2)\n",
    "price_b = BS_call(S = 100, K = 100, T = 0.75, r = 0, sigma = vol_b)\n",
    "\n",
    "print(\"The time-0 price of the 0.75-expiry call is \" + str(round(price_b,4)) + \".\")"
   ]
  },
  {
   "attachments": {},
   "cell_type": "markdown",
   "metadata": {},
   "source": [
    "##### **(c)**"
   ]
  },
  {
   "attachments": {},
   "cell_type": "markdown",
   "metadata": {},
   "source": [
    "To get an arbitrage, we build the portfolio by longing one unit of 1-expiry call and shorting one unit of 0.75-expiry call.\n",
    "\n",
    "**Time 0**\n",
    "\n",
    "According to (a) and (b), the time-0 price of 1-expiry call is 12, the time-0 price of 0.75-expiry call is 12.0815. \n",
    "\n",
    "Therefore, V_0 = 12 - 12.0815 = -0.0815 < 0.\n",
    "\n",
    "**Time 0.75**\n",
    "\n",
    "If S_0.75 > 100, short one share of stock and get K.\n",
    "\n",
    "**Time 1**\n",
    "\n",
    "If S_1 > 100 and S_0.75 > 100, exercise the long 1-expiry call, close the short position of stock which was opened at time 0.75, V_1 = 1.\n",
    "\n",
    "If S_1 > 100 and S_0.75 <= 100, exercise the long 1-expiry call, V_1 = S_1 - K > 0.\n",
    "\n",
    "If S_1 <= 100 and S_0.75 > 100, V_1 = K - S_1 > 0.\n",
    "\n",
    "If S_1 <= 100 and S_0.75 <= 100, V_1 = 0.\n",
    "\n",
    "In this way, we have a type two arbitrage."
   ]
  }
 ],
 "metadata": {
  "anaconda-cloud": {},
  "kernelspec": {
   "display_name": "Python 3",
   "language": "python",
   "name": "python3"
  },
  "language_info": {
   "codemirror_mode": {
    "name": "ipython",
    "version": 3
   },
   "file_extension": ".py",
   "mimetype": "text/x-python",
   "name": "python",
   "nbconvert_exporter": "python",
   "pygments_lexer": "ipython3",
   "version": "3.9.12"
  },
  "toc": {
   "base_numbering": 1,
   "nav_menu": {},
   "number_sections": true,
   "sideBar": true,
   "skip_h1_title": false,
   "title_cell": "Table of Contents",
   "title_sidebar": "Contents",
   "toc_cell": false,
   "toc_position": {},
   "toc_section_display": true,
   "toc_window_display": false
  }
 },
 "nbformat": 4,
 "nbformat_minor": 2
}
